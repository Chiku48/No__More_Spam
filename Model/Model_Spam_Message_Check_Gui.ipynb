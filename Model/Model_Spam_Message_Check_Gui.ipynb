{
 "cells": [
  {
   "cell_type": "markdown",
   "id": "04c45348-1799-471a-a7dc-7ebc450f0b9c",
   "metadata": {},
   "source": [
    "# Import required Libraries"
   ]
  },
  {
   "cell_type": "code",
   "execution_count": 70,
   "id": "7eb41226-650f-4615-aefe-1ceb9d443578",
   "metadata": {},
   "outputs": [],
   "source": [
    "import pandas as pd\n",
    "import tkinter as tk\n",
    "from tkinter import messagebox\n",
    "from sklearn.model_selection import train_test_split\n",
    "from sklearn.feature_extraction.text import TfidfVectorizer\n",
    "from sklearn.ensemble import RandomForestClassifier"
   ]
  },
  {
   "cell_type": "markdown",
   "id": "1f6e5c9f-0806-4a99-be75-7d142f96d3ab",
   "metadata": {},
   "source": [
    "# Load and preprocess data"
   ]
  },
  {
   "cell_type": "code",
   "execution_count": 71,
   "id": "b7676e42-2031-4228-b91c-ef1676009793",
   "metadata": {},
   "outputs": [],
   "source": [
    "def load_data():\n",
    "    df = pd.read_csv(\"C:/Users/saura/Downloads/spam/spam.csv\", encoding=\"latin-1\")\n",
    "    df = df[['v1', 'v2']]\n",
    "    df.columns = ['label', 'message']\n",
    "    df['label'] = df['label'].map({'ham': 0, 'spam': 1})\n",
    "    df['message'] = df['message'].str.lower().str.replace(r'[^\\w\\s]', '', regex=True)\n",
    "    return df"
   ]
  },
  {
   "cell_type": "markdown",
   "id": "c5906ba3-5881-41ef-8720-ddf46fa9741c",
   "metadata": {},
   "source": [
    "# Train model function"
   ]
  },
  {
   "cell_type": "code",
   "execution_count": 72,
   "id": "dfa4b04e-ebcc-4318-8b79-7d159d790e69",
   "metadata": {},
   "outputs": [],
   "source": [
    "def train_model():\n",
    "    df = load_data()\n",
    "    X = df['message']\n",
    "    y = df['label']\n",
    "\n",
    "    X_train, X_test, y_train, y_test = train_test_split(X, y, test_size=0.2, random_state=42)\n",
    "    \n",
    "    vectorizer = TfidfVectorizer(stop_words='english')\n",
    "    X_train_transformed = vectorizer.fit_transform(X_train)\n",
    "    X_test_transformed = vectorizer.transform(X_test)\n",
    "\n",
    "    model = RandomForestClassifier(n_estimators=100, random_state=42)\n",
    "    model.fit(X_train_transformed, y_train)\n",
    "\n",
    "    return model, vectorizer"
   ]
  },
  {
   "cell_type": "markdown",
   "id": "7ef105a4-40c5-4099-b036-8c36fae8344e",
   "metadata": {},
   "source": [
    "# GUI Interface"
   ]
  },
  {
   "cell_type": "code",
   "execution_count": 73,
   "id": "de1eac91-508d-48b6-a85d-cce5b0613947",
   "metadata": {},
   "outputs": [],
   "source": [
    "def create_gui(model, vectorizer):\n",
    "    def predict():\n",
    "        message = entry.get()\n",
    "        if message.strip() == \"\":\n",
    "            messagebox.showwarning(\"Input Error\", \"Please enter a message.\")\n",
    "            return\n",
    "\n",
    "        message_transformed = vectorizer.transform([message.lower()])\n",
    "        prediction = model.predict(message_transformed)\n",
    "        result = \"Spam\" if prediction[0] == 1 else \"Not Spam\"\n",
    "        messagebox.showinfo(\"Prediction Result\", f\"The message is classified as: {result}\")\n",
    "\n",
    "    # Window Configuration\n",
    "    root = tk.Tk()\n",
    "    root.title(\"FUTURISTIC'S Spam Detection System\")\n",
    "    root.geometry(\"500x400\")\n",
    "    root.config(bg=\"#b9b9b9\")  # Set background color\n",
    "\n",
    "    # Header\n",
    "    header_label = tk.Label(\n",
    "        root, text=\"Is This Spam ?\", font=(\"Helvetica\", 24, \"bold\"), bg=\"#b9b9b9\", fg=\"#333\"\n",
    "    )\n",
    "    header_label.pack(pady=20)\n",
    "\n",
    "    # Input Label\n",
    "    message_label = tk.Label(\n",
    "        root, text=\"Enter the message :\", font=(\"Helvetica\", 14), bg=\"#b9b9b9\", fg=\"#333\"\n",
    "    )\n",
    "    message_label.pack(pady=10)\n",
    "\n",
    "    # Message Entry\n",
    "    entry = tk.Entry(root, width=40, font=(\"Helvetica\", 14), bd=3, relief=\"groove\")\n",
    "    entry.pack(pady=10)\n",
    "\n",
    "    # Predict Button\n",
    "    predict_button = tk.Button(\n",
    "        root, text=\"Predict\", font=(\"Helvetica\", 14), bg=\"#606060\", fg=\"white\", activebackground=\"#606060\",\n",
    "        command=predict, relief=\"raised\", bd=4, width=15\n",
    "    )\n",
    "    predict_button.pack(pady=20)\n",
    "\n",
    "    # Footer\n",
    "    footer_label = tk.Label(\n",
    "        root, text=\"Spam or Not Spam ? FUTURISTIC made for you!\", font=(\"Helvetica\", 10, \"italic\"), bg=\"#b9b9b9\", fg=\"#0d0d0d\"\n",
    "    )\n",
    "    footer_label.pack(side=\"bottom\", pady=10)\n",
    "\n",
    "    root.mainloop()"
   ]
  },
  {
   "cell_type": "markdown",
   "id": "bd8ac803-8af7-49ef-b51d-ca3d760d1b78",
   "metadata": {},
   "source": [
    "# Main function"
   ]
  },
  {
   "cell_type": "code",
   "execution_count": 74,
   "id": "b5b20104-ec82-4523-9fcb-d3b84738c1af",
   "metadata": {},
   "outputs": [],
   "source": [
    "\n",
    "if __name__ == \"__main__\":\n",
    "    model, vectorizer = train_model()\n",
    "    create_gui(model, vectorizer)"
   ]
  }
 ],
 "metadata": {
  "kernelspec": {
   "display_name": "Python 3 (ipykernel)",
   "language": "python",
   "name": "python3"
  },
  "language_info": {
   "codemirror_mode": {
    "name": "ipython",
    "version": 3
   },
   "file_extension": ".py",
   "mimetype": "text/x-python",
   "name": "python",
   "nbconvert_exporter": "python",
   "pygments_lexer": "ipython3",
   "version": "3.10.14"
  }
 },
 "nbformat": 4,
 "nbformat_minor": 5
}
